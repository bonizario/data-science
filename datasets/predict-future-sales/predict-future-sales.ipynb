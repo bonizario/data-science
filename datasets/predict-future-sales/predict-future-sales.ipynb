{
 "cells": [
  {
   "cell_type": "code",
   "execution_count": 59,
   "metadata": {},
   "outputs": [],
   "source": [
    "import numpy as np\n",
    "import pandas as pd\n",
    "\n",
    "from itertools import product\n",
    "\n",
    "from sklearn.preprocessing import LabelEncoder\n",
    "\n",
    "import gc\n",
    "import lightgbm as lgb\n",
    "\n",
    "import seaborn as sns\n",
    "import matplotlib as mpl\n",
    "import matplotlib.pyplot as plt"
   ]
  },
  {
   "cell_type": "code",
   "execution_count": null,
   "metadata": {},
   "outputs": [],
   "source": [
    "sales_train     = pd.read_csv('./sales_train.csv')\n",
    "shops           = pd.read_csv('./shops.csv')\n",
    "items           = pd.read_csv('./items.csv')\n",
    "item_categories = pd.read_csv('./item_categories.csv')\n",
    "test            = pd.read_csv('./test.csv')\n",
    "submission      = pd.read_csv('./sample_submission.csv')"
   ]
  },
  {
   "cell_type": "code",
   "execution_count": 2,
   "metadata": {},
   "outputs": [
    {
     "name": "stdout",
     "output_type": "stream",
     "text": [
      "54.2% compressed\n",
      "38.5% compressed\n",
      "54.2% compressed\n",
      "39.8% compressed\n",
      "70.8% compressed\n"
     ]
    }
   ],
   "source": [
    "def downcast(df, verbose=True):\n",
    "    start_mem = df.memory_usage().sum() / 1024**2\n",
    "    for col in df.columns:\n",
    "        dtype_name = df[col].dtype.name\n",
    "        if dtype_name == 'object':\n",
    "            pass\n",
    "        elif dtype_name == 'bool':\n",
    "            df[col] = df[col].astype('int8')\n",
    "        elif dtype_name.startswith('int') or (df[col].round() == df[col]).all():\n",
    "            df[col] = pd.to_numeric(df[col], downcast='integer')\n",
    "        else:\n",
    "            df[col] = pd.to_numeric(df[col], downcast='float')\n",
    "    end_mem = df.memory_usage().sum() / 1024**2\n",
    "    if verbose:\n",
    "        print('{:.1f}% compressed'.format(100 * (start_mem - end_mem) / start_mem))\n",
    "    \n",
    "    return df\n",
    "\n",
    "all_df = [sales_train, shops, items, item_categories, test]\n",
    "for df in all_df:\n",
    "    df = downcast(df)"
   ]
  },
  {
   "cell_type": "code",
   "execution_count": 3,
   "metadata": {},
   "outputs": [],
   "source": [
    "# Extract data with a item_price greater than 0\n",
    "sales_train = sales_train[sales_train['item_price'] > 0]\n",
    "# Extract data with a item_priceof less than 50,000\n",
    "sales_train = sales_train[sales_train['item_price'] < 50000]\n",
    "# Extract data with item_cnt_day greater than 0\n",
    "sales_train = sales_train[sales_train['item_cnt_day'] > 0]\n",
    "# Extract data with item_cnt_day less than 1,000\n",
    "sales_train = sales_train[sales_train['item_cnt_day'] < 1000]"
   ]
  },
  {
   "cell_type": "code",
   "execution_count": 4,
   "metadata": {},
   "outputs": [],
   "source": [
    "#  Modify shop_id in sales_train data\n",
    "sales_train.loc[sales_train['shop_id'] == 0, 'shop_id'] = 57\n",
    "sales_train.loc[sales_train['shop_id'] == 1, 'shop_id'] = 58\n",
    "sales_train.loc[sales_train['shop_id'] == 10, 'shop_id'] = 11\n",
    "sales_train.loc[sales_train['shop_id'] == 39, 'shop_id'] = 40\n",
    "\n",
    "#  Modify shop_id in test data\n",
    "test.loc[test['shop_id'] == 0, 'shop_id'] = 57\n",
    "test.loc[test['shop_id'] == 1, 'shop_id'] = 58\n",
    "test.loc[test['shop_id'] == 10, 'shop_id'] = 11\n",
    "test.loc[test['shop_id'] == 39, 'shop_id'] = 40"
   ]
  },
  {
   "cell_type": "code",
   "execution_count": 5,
   "metadata": {},
   "outputs": [],
   "source": [
    "# Leaking to imporve performance\n",
    "unique_test_shop_id = test['shop_id'].unique()\n",
    "sales_train = sales_train[sales_train['shop_id'].isin(unique_test_shop_id)]"
   ]
  },
  {
   "cell_type": "code",
   "execution_count": 6,
   "metadata": {},
   "outputs": [],
   "source": [
    "shops['city'] = shops['shop_name'].apply(lambda x: x.split()[0])"
   ]
  },
  {
   "cell_type": "code",
   "execution_count": 7,
   "metadata": {},
   "outputs": [
    {
     "data": {
      "text/plain": [
       "array(['!Якутск', 'Адыгея', 'Балашиха', 'Волжский', 'Вологда', 'Воронеж',\n",
       "       'Выездная', 'Жуковский', 'Интернет-магазин', 'Казань', 'Калуга',\n",
       "       'Коломна', 'Красноярск', 'Курск', 'Москва', 'Мытищи', 'Н.Новгород',\n",
       "       'Новосибирск', 'Омск', 'РостовНаДону', 'СПб', 'Самара', 'Сергиев',\n",
       "       'Сургут', 'Томск', 'Тюмень', 'Уфа', 'Химки', 'Цифровой', 'Чехов',\n",
       "       'Якутск', 'Ярославль'], dtype=object)"
      ]
     },
     "execution_count": 7,
     "metadata": {},
     "output_type": "execute_result"
    }
   ],
   "source": [
    "shops['city'].unique()"
   ]
  },
  {
   "cell_type": "code",
   "execution_count": 8,
   "metadata": {},
   "outputs": [],
   "source": [
    "shops.loc[shops['city'] =='!Якутск', 'city'] = 'Якутск'"
   ]
  },
  {
   "cell_type": "code",
   "execution_count": 10,
   "metadata": {},
   "outputs": [],
   "source": [
    "# Create Label Encoder\n",
    "label_encoder = LabelEncoder()\n",
    "# City Feature Label Encoding \n",
    "shops['city'] = label_encoder.fit_transform(shops['city'])"
   ]
  },
  {
   "cell_type": "code",
   "execution_count": 11,
   "metadata": {},
   "outputs": [
    {
     "data": {
      "text/html": [
       "<div>\n",
       "<style scoped>\n",
       "    .dataframe tbody tr th:only-of-type {\n",
       "        vertical-align: middle;\n",
       "    }\n",
       "\n",
       "    .dataframe tbody tr th {\n",
       "        vertical-align: top;\n",
       "    }\n",
       "\n",
       "    .dataframe thead th {\n",
       "        text-align: right;\n",
       "    }\n",
       "</style>\n",
       "<table border=\"1\" class=\"dataframe\">\n",
       "  <thead>\n",
       "    <tr style=\"text-align: right;\">\n",
       "      <th></th>\n",
       "      <th>shop_id</th>\n",
       "      <th>city</th>\n",
       "    </tr>\n",
       "  </thead>\n",
       "  <tbody>\n",
       "    <tr>\n",
       "      <th>0</th>\n",
       "      <td>0</td>\n",
       "      <td>29</td>\n",
       "    </tr>\n",
       "    <tr>\n",
       "      <th>1</th>\n",
       "      <td>1</td>\n",
       "      <td>29</td>\n",
       "    </tr>\n",
       "    <tr>\n",
       "      <th>2</th>\n",
       "      <td>2</td>\n",
       "      <td>0</td>\n",
       "    </tr>\n",
       "    <tr>\n",
       "      <th>3</th>\n",
       "      <td>3</td>\n",
       "      <td>1</td>\n",
       "    </tr>\n",
       "    <tr>\n",
       "      <th>4</th>\n",
       "      <td>4</td>\n",
       "      <td>2</td>\n",
       "    </tr>\n",
       "  </tbody>\n",
       "</table>\n",
       "</div>"
      ],
      "text/plain": [
       "   shop_id  city\n",
       "0        0    29\n",
       "1        1    29\n",
       "2        2     0\n",
       "3        3     1\n",
       "4        4     2"
      ]
     },
     "execution_count": 11,
     "metadata": {},
     "output_type": "execute_result"
    }
   ],
   "source": [
    "# Remove shop_name feature\n",
    "shops = shops.drop('shop_name', axis=1)\n",
    "shops.head()"
   ]
  },
  {
   "cell_type": "code",
   "execution_count": 12,
   "metadata": {},
   "outputs": [],
   "source": [
    "# Remove item_name feature\n",
    "items = items.drop(['item_name'], axis=1)"
   ]
  },
  {
   "cell_type": "code",
   "execution_count": 13,
   "metadata": {},
   "outputs": [
    {
     "data": {
      "text/html": [
       "<div>\n",
       "<style scoped>\n",
       "    .dataframe tbody tr th:only-of-type {\n",
       "        vertical-align: middle;\n",
       "    }\n",
       "\n",
       "    .dataframe tbody tr th {\n",
       "        vertical-align: top;\n",
       "    }\n",
       "\n",
       "    .dataframe thead th {\n",
       "        text-align: right;\n",
       "    }\n",
       "</style>\n",
       "<table border=\"1\" class=\"dataframe\">\n",
       "  <thead>\n",
       "    <tr style=\"text-align: right;\">\n",
       "      <th></th>\n",
       "      <th>item_id</th>\n",
       "      <th>item_category_id</th>\n",
       "      <th>first_sale_date</th>\n",
       "    </tr>\n",
       "  </thead>\n",
       "  <tbody>\n",
       "    <tr>\n",
       "      <th>0</th>\n",
       "      <td>0</td>\n",
       "      <td>40</td>\n",
       "      <td>NaN</td>\n",
       "    </tr>\n",
       "    <tr>\n",
       "      <th>1</th>\n",
       "      <td>1</td>\n",
       "      <td>76</td>\n",
       "      <td>15.0</td>\n",
       "    </tr>\n",
       "    <tr>\n",
       "      <th>2</th>\n",
       "      <td>2</td>\n",
       "      <td>40</td>\n",
       "      <td>NaN</td>\n",
       "    </tr>\n",
       "    <tr>\n",
       "      <th>3</th>\n",
       "      <td>3</td>\n",
       "      <td>40</td>\n",
       "      <td>NaN</td>\n",
       "    </tr>\n",
       "    <tr>\n",
       "      <th>4</th>\n",
       "      <td>4</td>\n",
       "      <td>40</td>\n",
       "      <td>NaN</td>\n",
       "    </tr>\n",
       "  </tbody>\n",
       "</table>\n",
       "</div>"
      ],
      "text/plain": [
       "   item_id  item_category_id  first_sale_date\n",
       "0        0                40              NaN\n",
       "1        1                76             15.0\n",
       "2        2                40              NaN\n",
       "3        3                40              NaN\n",
       "4        4                40              NaN"
      ]
     },
     "execution_count": 13,
     "metadata": {},
     "output_type": "execute_result"
    }
   ],
   "source": [
    "# Create the date the product was first sold as a feature\n",
    "items['first_sale_date'] = sales_train.groupby('item_id').agg({'date_block_num': 'min'})['date_block_num']\n",
    "items.head()"
   ]
  },
  {
   "cell_type": "code",
   "execution_count": 14,
   "metadata": {},
   "outputs": [],
   "source": [
    "# Replace NaN of first_sale_date with 34\n",
    "items['first_sale_date'] = items['first_sale_date'].fillna(34)"
   ]
  },
  {
   "cell_type": "code",
   "execution_count": 15,
   "metadata": {},
   "outputs": [],
   "source": [
    "# Extract the first word of the item_categories_name into category\n",
    "item_categories['category'] = item_categories['item_category_name'].apply(lambda x: x.split()[0])  "
   ]
  },
  {
   "cell_type": "code",
   "execution_count": 16,
   "metadata": {},
   "outputs": [
    {
     "data": {
      "text/plain": [
       "category\n",
       "Игры          14\n",
       "Книги         13\n",
       "Подарки       12\n",
       "Игровые        8\n",
       "Аксессуары     7\n",
       "Музыка         6\n",
       "Программы      6\n",
       "Карты          5\n",
       "Кино           5\n",
       "Служебные      2\n",
       "Чистые         2\n",
       "PC             1\n",
       "Билеты         1\n",
       "Доставка       1\n",
       "Элементы       1\n",
       "Name: count, dtype: int64"
      ]
     },
     "execution_count": 16,
     "metadata": {},
     "output_type": "execute_result"
    }
   ],
   "source": [
    "item_categories['category'].value_counts()"
   ]
  },
  {
   "cell_type": "code",
   "execution_count": 17,
   "metadata": {},
   "outputs": [],
   "source": [
    "def make_etc(x):\n",
    "    if len(item_categories[item_categories['category']==x]) >= 5:\n",
    "        return x\n",
    "    else:\n",
    "        return 'etc'\n",
    "\n",
    "# Replace with 'etc' if category count is less than 5\n",
    "item_categories['category'] = item_categories['category'].apply(make_etc)"
   ]
  },
  {
   "cell_type": "code",
   "execution_count": 18,
   "metadata": {},
   "outputs": [
    {
     "data": {
      "text/html": [
       "<div>\n",
       "<style scoped>\n",
       "    .dataframe tbody tr th:only-of-type {\n",
       "        vertical-align: middle;\n",
       "    }\n",
       "\n",
       "    .dataframe tbody tr th {\n",
       "        vertical-align: top;\n",
       "    }\n",
       "\n",
       "    .dataframe thead th {\n",
       "        text-align: right;\n",
       "    }\n",
       "</style>\n",
       "<table border=\"1\" class=\"dataframe\">\n",
       "  <thead>\n",
       "    <tr style=\"text-align: right;\">\n",
       "      <th></th>\n",
       "      <th>item_category_name</th>\n",
       "      <th>item_category_id</th>\n",
       "      <th>category</th>\n",
       "    </tr>\n",
       "  </thead>\n",
       "  <tbody>\n",
       "    <tr>\n",
       "      <th>0</th>\n",
       "      <td>PC - Гарнитуры/Наушники</td>\n",
       "      <td>0</td>\n",
       "      <td>etc</td>\n",
       "    </tr>\n",
       "    <tr>\n",
       "      <th>1</th>\n",
       "      <td>Аксессуары - PS2</td>\n",
       "      <td>1</td>\n",
       "      <td>Аксессуары</td>\n",
       "    </tr>\n",
       "    <tr>\n",
       "      <th>2</th>\n",
       "      <td>Аксессуары - PS3</td>\n",
       "      <td>2</td>\n",
       "      <td>Аксессуары</td>\n",
       "    </tr>\n",
       "    <tr>\n",
       "      <th>3</th>\n",
       "      <td>Аксессуары - PS4</td>\n",
       "      <td>3</td>\n",
       "      <td>Аксессуары</td>\n",
       "    </tr>\n",
       "    <tr>\n",
       "      <th>4</th>\n",
       "      <td>Аксессуары - PSP</td>\n",
       "      <td>4</td>\n",
       "      <td>Аксессуары</td>\n",
       "    </tr>\n",
       "  </tbody>\n",
       "</table>\n",
       "</div>"
      ],
      "text/plain": [
       "        item_category_name  item_category_id    category\n",
       "0  PC - Гарнитуры/Наушники                 0         etc\n",
       "1         Аксессуары - PS2                 1  Аксессуары\n",
       "2         Аксессуары - PS3                 2  Аксессуары\n",
       "3         Аксессуары - PS4                 3  Аксессуары\n",
       "4         Аксессуары - PSP                 4  Аксессуары"
      ]
     },
     "execution_count": 18,
     "metadata": {},
     "output_type": "execute_result"
    }
   ],
   "source": [
    "item_categories.head()"
   ]
  },
  {
   "cell_type": "code",
   "execution_count": 19,
   "metadata": {},
   "outputs": [],
   "source": [
    "# Create Label Encoder\n",
    "label_encoder = LabelEncoder()\n",
    "# Category Feature Label Encoding \n",
    "item_categories['category'] = label_encoder.fit_transform(item_categories['category'])\n",
    "\n",
    "# Remove item_category_name feature\n",
    "item_categories = item_categories.drop('item_category_name', axis=1)"
   ]
  },
  {
   "cell_type": "code",
   "execution_count": 21,
   "metadata": {},
   "outputs": [],
   "source": [
    "train = []\n",
    "# Create date_block_num, sop_id, item_id combination\n",
    "for i in sales_train['date_block_num'].unique():\n",
    "    all_shop = sales_train.loc[sales_train['date_block_num']==i, 'shop_id'].unique()\n",
    "    all_item = sales_train.loc[sales_train['date_block_num']==i, 'item_id'].unique()\n",
    "    train.append(np.array(list(product([i], all_shop, all_item))))\n",
    "\n",
    "idx_features = ['date_block_num', 'shop_id', 'item_id'] # base features\n",
    "train = pd.DataFrame(np.vstack(train), columns=idx_features)"
   ]
  },
  {
   "cell_type": "code",
   "execution_count": 22,
   "metadata": {},
   "outputs": [
    {
     "data": {
      "text/html": [
       "<div>\n",
       "<style scoped>\n",
       "    .dataframe tbody tr th:only-of-type {\n",
       "        vertical-align: middle;\n",
       "    }\n",
       "\n",
       "    .dataframe tbody tr th {\n",
       "        vertical-align: top;\n",
       "    }\n",
       "\n",
       "    .dataframe thead th {\n",
       "        text-align: right;\n",
       "    }\n",
       "</style>\n",
       "<table border=\"1\" class=\"dataframe\">\n",
       "  <thead>\n",
       "    <tr style=\"text-align: right;\">\n",
       "      <th></th>\n",
       "      <th>date_block_num</th>\n",
       "      <th>shop_id</th>\n",
       "      <th>item_id</th>\n",
       "      <th>item_cnt_month</th>\n",
       "      <th>item_price_mean</th>\n",
       "    </tr>\n",
       "  </thead>\n",
       "  <tbody>\n",
       "    <tr>\n",
       "      <th>0</th>\n",
       "      <td>0</td>\n",
       "      <td>59</td>\n",
       "      <td>22154</td>\n",
       "      <td>1.0</td>\n",
       "      <td>999.0</td>\n",
       "    </tr>\n",
       "    <tr>\n",
       "      <th>1</th>\n",
       "      <td>0</td>\n",
       "      <td>59</td>\n",
       "      <td>2552</td>\n",
       "      <td>NaN</td>\n",
       "      <td>NaN</td>\n",
       "    </tr>\n",
       "    <tr>\n",
       "      <th>2</th>\n",
       "      <td>0</td>\n",
       "      <td>59</td>\n",
       "      <td>2554</td>\n",
       "      <td>NaN</td>\n",
       "      <td>NaN</td>\n",
       "    </tr>\n",
       "    <tr>\n",
       "      <th>3</th>\n",
       "      <td>0</td>\n",
       "      <td>59</td>\n",
       "      <td>2555</td>\n",
       "      <td>NaN</td>\n",
       "      <td>NaN</td>\n",
       "    </tr>\n",
       "    <tr>\n",
       "      <th>4</th>\n",
       "      <td>0</td>\n",
       "      <td>59</td>\n",
       "      <td>2564</td>\n",
       "      <td>NaN</td>\n",
       "      <td>NaN</td>\n",
       "    </tr>\n",
       "  </tbody>\n",
       "</table>\n",
       "</div>"
      ],
      "text/plain": [
       "   date_block_num  shop_id  item_id  item_cnt_month  item_price_mean\n",
       "0               0       59    22154             1.0            999.0\n",
       "1               0       59     2552             NaN              NaN\n",
       "2               0       59     2554             NaN              NaN\n",
       "3               0       59     2555             NaN              NaN\n",
       "4               0       59     2564             NaN              NaN"
      ]
     },
     "execution_count": 22,
     "metadata": {},
     "output_type": "execute_result"
    }
   ],
   "source": [
    "group = sales_train.groupby(idx_features).agg({'item_cnt_day': 'sum',\n",
    "                                               'item_price': 'mean'})\n",
    "group = group.reset_index()\n",
    "group = group.rename(columns={'item_cnt_day': 'item_cnt_month', 'item_price': 'item_price_mean'})\n",
    "\n",
    "train = train.merge(group, on=idx_features, how='left')\n",
    "\n",
    "train.head()"
   ]
  },
  {
   "cell_type": "code",
   "execution_count": 24,
   "metadata": {},
   "outputs": [
    {
     "data": {
      "text/plain": [
       "0"
      ]
     },
     "execution_count": 24,
     "metadata": {},
     "output_type": "execute_result"
    }
   ],
   "source": [
    "# group variable garbage collection\n",
    "del group\n",
    "gc.collect()"
   ]
  },
  {
   "cell_type": "code",
   "execution_count": 25,
   "metadata": {},
   "outputs": [
    {
     "data": {
      "text/html": [
       "<div>\n",
       "<style scoped>\n",
       "    .dataframe tbody tr th:only-of-type {\n",
       "        vertical-align: middle;\n",
       "    }\n",
       "\n",
       "    .dataframe tbody tr th {\n",
       "        vertical-align: top;\n",
       "    }\n",
       "\n",
       "    .dataframe thead th {\n",
       "        text-align: right;\n",
       "    }\n",
       "</style>\n",
       "<table border=\"1\" class=\"dataframe\">\n",
       "  <thead>\n",
       "    <tr style=\"text-align: right;\">\n",
       "      <th></th>\n",
       "      <th>date_block_num</th>\n",
       "      <th>shop_id</th>\n",
       "      <th>item_id</th>\n",
       "      <th>item_cnt_month</th>\n",
       "      <th>item_price_mean</th>\n",
       "      <th>item_count</th>\n",
       "    </tr>\n",
       "  </thead>\n",
       "  <tbody>\n",
       "    <tr>\n",
       "      <th>0</th>\n",
       "      <td>0</td>\n",
       "      <td>59</td>\n",
       "      <td>22154</td>\n",
       "      <td>1.0</td>\n",
       "      <td>999.0</td>\n",
       "      <td>1.0</td>\n",
       "    </tr>\n",
       "    <tr>\n",
       "      <th>1</th>\n",
       "      <td>0</td>\n",
       "      <td>59</td>\n",
       "      <td>2552</td>\n",
       "      <td>NaN</td>\n",
       "      <td>NaN</td>\n",
       "      <td>NaN</td>\n",
       "    </tr>\n",
       "    <tr>\n",
       "      <th>2</th>\n",
       "      <td>0</td>\n",
       "      <td>59</td>\n",
       "      <td>2554</td>\n",
       "      <td>NaN</td>\n",
       "      <td>NaN</td>\n",
       "      <td>NaN</td>\n",
       "    </tr>\n",
       "    <tr>\n",
       "      <th>3</th>\n",
       "      <td>0</td>\n",
       "      <td>59</td>\n",
       "      <td>2555</td>\n",
       "      <td>NaN</td>\n",
       "      <td>NaN</td>\n",
       "      <td>NaN</td>\n",
       "    </tr>\n",
       "    <tr>\n",
       "      <th>4</th>\n",
       "      <td>0</td>\n",
       "      <td>59</td>\n",
       "      <td>2564</td>\n",
       "      <td>NaN</td>\n",
       "      <td>NaN</td>\n",
       "      <td>NaN</td>\n",
       "    </tr>\n",
       "  </tbody>\n",
       "</table>\n",
       "</div>"
      ],
      "text/plain": [
       "   date_block_num  shop_id  item_id  item_cnt_month  item_price_mean  \\\n",
       "0               0       59    22154             1.0            999.0   \n",
       "1               0       59     2552             NaN              NaN   \n",
       "2               0       59     2554             NaN              NaN   \n",
       "3               0       59     2555             NaN              NaN   \n",
       "4               0       59     2564             NaN              NaN   \n",
       "\n",
       "   item_count  \n",
       "0         1.0  \n",
       "1         NaN  \n",
       "2         NaN  \n",
       "3         NaN  \n",
       "4         NaN  "
      ]
     },
     "execution_count": 25,
     "metadata": {},
     "output_type": "execute_result"
    }
   ],
   "source": [
    "# Add a feature for the number of items sold\n",
    "group = sales_train.groupby(idx_features).agg({'item_cnt_day': 'count'})\n",
    "group = group.reset_index()\n",
    "group = group.rename(columns={'item_cnt_day': 'item_count'})\n",
    "\n",
    "train = train.merge(group, on=idx_features, how='left')\n",
    "\n",
    "# Garbage collection\n",
    "del group, sales_train\n",
    "gc.collect()\n",
    "\n",
    "train.head()"
   ]
  },
  {
   "cell_type": "code",
   "execution_count": 26,
   "metadata": {},
   "outputs": [
    {
     "data": {
      "text/html": [
       "<div>\n",
       "<style scoped>\n",
       "    .dataframe tbody tr th:only-of-type {\n",
       "        vertical-align: middle;\n",
       "    }\n",
       "\n",
       "    .dataframe tbody tr th {\n",
       "        vertical-align: top;\n",
       "    }\n",
       "\n",
       "    .dataframe thead th {\n",
       "        text-align: right;\n",
       "    }\n",
       "</style>\n",
       "<table border=\"1\" class=\"dataframe\">\n",
       "  <thead>\n",
       "    <tr style=\"text-align: right;\">\n",
       "      <th></th>\n",
       "      <th>date_block_num</th>\n",
       "      <th>shop_id</th>\n",
       "      <th>item_id</th>\n",
       "      <th>item_cnt_month</th>\n",
       "      <th>item_price_mean</th>\n",
       "      <th>item_count</th>\n",
       "    </tr>\n",
       "  </thead>\n",
       "  <tbody>\n",
       "    <tr>\n",
       "      <th>0</th>\n",
       "      <td>0</td>\n",
       "      <td>59</td>\n",
       "      <td>22154</td>\n",
       "      <td>1.0</td>\n",
       "      <td>999.0</td>\n",
       "      <td>1.0</td>\n",
       "    </tr>\n",
       "    <tr>\n",
       "      <th>1</th>\n",
       "      <td>0</td>\n",
       "      <td>59</td>\n",
       "      <td>2552</td>\n",
       "      <td>0.0</td>\n",
       "      <td>0.0</td>\n",
       "      <td>0.0</td>\n",
       "    </tr>\n",
       "    <tr>\n",
       "      <th>2</th>\n",
       "      <td>0</td>\n",
       "      <td>59</td>\n",
       "      <td>2554</td>\n",
       "      <td>0.0</td>\n",
       "      <td>0.0</td>\n",
       "      <td>0.0</td>\n",
       "    </tr>\n",
       "    <tr>\n",
       "      <th>3</th>\n",
       "      <td>0</td>\n",
       "      <td>59</td>\n",
       "      <td>2555</td>\n",
       "      <td>0.0</td>\n",
       "      <td>0.0</td>\n",
       "      <td>0.0</td>\n",
       "    </tr>\n",
       "    <tr>\n",
       "      <th>4</th>\n",
       "      <td>0</td>\n",
       "      <td>59</td>\n",
       "      <td>2564</td>\n",
       "      <td>0.0</td>\n",
       "      <td>0.0</td>\n",
       "      <td>0.0</td>\n",
       "    </tr>\n",
       "  </tbody>\n",
       "</table>\n",
       "</div>"
      ],
      "text/plain": [
       "   date_block_num  shop_id  item_id  item_cnt_month  item_price_mean  \\\n",
       "0               0       59    22154             1.0            999.0   \n",
       "1               0       59     2552             0.0              0.0   \n",
       "2               0       59     2554             0.0              0.0   \n",
       "3               0       59     2555             0.0              0.0   \n",
       "4               0       59     2564             0.0              0.0   \n",
       "\n",
       "   item_count  \n",
       "0         1.0  \n",
       "1         0.0  \n",
       "2         0.0  \n",
       "3         0.0  \n",
       "4         0.0  "
      ]
     },
     "execution_count": 26,
     "metadata": {},
     "output_type": "execute_result"
    }
   ],
   "source": [
    "# Set test data date_block_num to 34\n",
    "test['date_block_num'] = 34\n",
    "\n",
    "# Concatenate train and test\n",
    "all_data = pd.concat([train, test.drop('ID', axis=1)],\n",
    "                     ignore_index=True,\n",
    "                     keys=idx_features)\n",
    "# Replace NaN with 0\n",
    "all_data = all_data.fillna(0)\n",
    "\n",
    "all_data.head()"
   ]
  },
  {
   "cell_type": "code",
   "execution_count": 27,
   "metadata": {},
   "outputs": [
    {
     "name": "stdout",
     "output_type": "stream",
     "text": [
      "64.2% compressed\n"
     ]
    },
    {
     "data": {
      "text/plain": [
       "0"
      ]
     },
     "execution_count": 27,
     "metadata": {},
     "output_type": "execute_result"
    }
   ],
   "source": [
    "# Merge other data\n",
    "all_data = all_data.merge(shops, on='shop_id', how='left')\n",
    "all_data = all_data.merge(items, on='item_id', how='left')\n",
    "all_data = all_data.merge(item_categories, on='item_category_id', how='left')\n",
    "\n",
    "# Data downcasting\n",
    "all_data = downcast(all_data)\n",
    "\n",
    "# Garbage collection\n",
    "del shops, items, item_categories\n",
    "gc.collect()"
   ]
  },
  {
   "cell_type": "code",
   "execution_count": 29,
   "metadata": {},
   "outputs": [],
   "source": [
    "def resumetable(df):\n",
    "    print(f'Data Shape: {df.shape}')\n",
    "    summary = pd.DataFrame(df.dtypes, columns=['Dtypes'])\n",
    "    summary['Null'] = df.isnull().sum().values\n",
    "    summary['Uniques'] = df.nunique().values\n",
    "    summary['First_values'] = df.loc[0].values\n",
    "    summary['Second_values'] = df.loc[1].values\n",
    "    summary['Third_values'] = df.loc[2].values\n",
    "    \n",
    "    return summary"
   ]
  },
  {
   "cell_type": "code",
   "execution_count": 30,
   "metadata": {},
   "outputs": [
    {
     "name": "stdout",
     "output_type": "stream",
     "text": [
      "Data Shape: (8856961, 10)\n"
     ]
    },
    {
     "data": {
      "text/html": [
       "<div>\n",
       "<style scoped>\n",
       "    .dataframe tbody tr th:only-of-type {\n",
       "        vertical-align: middle;\n",
       "    }\n",
       "\n",
       "    .dataframe tbody tr th {\n",
       "        vertical-align: top;\n",
       "    }\n",
       "\n",
       "    .dataframe thead th {\n",
       "        text-align: right;\n",
       "    }\n",
       "</style>\n",
       "<table border=\"1\" class=\"dataframe\">\n",
       "  <thead>\n",
       "    <tr style=\"text-align: right;\">\n",
       "      <th></th>\n",
       "      <th>Dtypes</th>\n",
       "      <th>Null</th>\n",
       "      <th>Uniques</th>\n",
       "      <th>First_values</th>\n",
       "      <th>Second_values</th>\n",
       "      <th>Third_values</th>\n",
       "    </tr>\n",
       "  </thead>\n",
       "  <tbody>\n",
       "    <tr>\n",
       "      <th>date_block_num</th>\n",
       "      <td>int8</td>\n",
       "      <td>0</td>\n",
       "      <td>35</td>\n",
       "      <td>0.0</td>\n",
       "      <td>0.0</td>\n",
       "      <td>0.0</td>\n",
       "    </tr>\n",
       "    <tr>\n",
       "      <th>shop_id</th>\n",
       "      <td>int8</td>\n",
       "      <td>0</td>\n",
       "      <td>42</td>\n",
       "      <td>59.0</td>\n",
       "      <td>59.0</td>\n",
       "      <td>59.0</td>\n",
       "    </tr>\n",
       "    <tr>\n",
       "      <th>item_id</th>\n",
       "      <td>int16</td>\n",
       "      <td>0</td>\n",
       "      <td>21464</td>\n",
       "      <td>22154.0</td>\n",
       "      <td>2552.0</td>\n",
       "      <td>2554.0</td>\n",
       "    </tr>\n",
       "    <tr>\n",
       "      <th>item_cnt_month</th>\n",
       "      <td>int16</td>\n",
       "      <td>0</td>\n",
       "      <td>407</td>\n",
       "      <td>1.0</td>\n",
       "      <td>0.0</td>\n",
       "      <td>0.0</td>\n",
       "    </tr>\n",
       "    <tr>\n",
       "      <th>item_price_mean</th>\n",
       "      <td>float64</td>\n",
       "      <td>0</td>\n",
       "      <td>34916</td>\n",
       "      <td>999.0</td>\n",
       "      <td>0.0</td>\n",
       "      <td>0.0</td>\n",
       "    </tr>\n",
       "    <tr>\n",
       "      <th>item_count</th>\n",
       "      <td>int8</td>\n",
       "      <td>0</td>\n",
       "      <td>40</td>\n",
       "      <td>1.0</td>\n",
       "      <td>0.0</td>\n",
       "      <td>0.0</td>\n",
       "    </tr>\n",
       "    <tr>\n",
       "      <th>city</th>\n",
       "      <td>int8</td>\n",
       "      <td>0</td>\n",
       "      <td>28</td>\n",
       "      <td>30.0</td>\n",
       "      <td>30.0</td>\n",
       "      <td>30.0</td>\n",
       "    </tr>\n",
       "    <tr>\n",
       "      <th>item_category_id</th>\n",
       "      <td>int8</td>\n",
       "      <td>0</td>\n",
       "      <td>84</td>\n",
       "      <td>37.0</td>\n",
       "      <td>58.0</td>\n",
       "      <td>58.0</td>\n",
       "    </tr>\n",
       "    <tr>\n",
       "      <th>first_sale_date</th>\n",
       "      <td>int8</td>\n",
       "      <td>0</td>\n",
       "      <td>35</td>\n",
       "      <td>0.0</td>\n",
       "      <td>0.0</td>\n",
       "      <td>0.0</td>\n",
       "    </tr>\n",
       "    <tr>\n",
       "      <th>category</th>\n",
       "      <td>int8</td>\n",
       "      <td>0</td>\n",
       "      <td>10</td>\n",
       "      <td>5.0</td>\n",
       "      <td>7.0</td>\n",
       "      <td>7.0</td>\n",
       "    </tr>\n",
       "  </tbody>\n",
       "</table>\n",
       "</div>"
      ],
      "text/plain": [
       "                   Dtypes  Null  Uniques  First_values  Second_values  \\\n",
       "date_block_num       int8     0       35           0.0            0.0   \n",
       "shop_id              int8     0       42          59.0           59.0   \n",
       "item_id             int16     0    21464       22154.0         2552.0   \n",
       "item_cnt_month      int16     0      407           1.0            0.0   \n",
       "item_price_mean   float64     0    34916         999.0            0.0   \n",
       "item_count           int8     0       40           1.0            0.0   \n",
       "city                 int8     0       28          30.0           30.0   \n",
       "item_category_id     int8     0       84          37.0           58.0   \n",
       "first_sale_date      int8     0       35           0.0            0.0   \n",
       "category             int8     0       10           5.0            7.0   \n",
       "\n",
       "                  Third_values  \n",
       "date_block_num             0.0  \n",
       "shop_id                   59.0  \n",
       "item_id                 2554.0  \n",
       "item_cnt_month             0.0  \n",
       "item_price_mean            0.0  \n",
       "item_count                 0.0  \n",
       "city                      30.0  \n",
       "item_category_id          58.0  \n",
       "first_sale_date            0.0  \n",
       "category                   7.0  "
      ]
     },
     "execution_count": 30,
     "metadata": {},
     "output_type": "execute_result"
    }
   ],
   "source": [
    "resumetable(all_data)"
   ]
  },
  {
   "cell_type": "code",
   "execution_count": 33,
   "metadata": {},
   "outputs": [
    {
     "data": {
      "image/png": "[encoded data removed]",
      "text/plain": [
       "<Figure size 1100x500 with 1 Axes>"
      ]
     },
     "metadata": {},
     "output_type": "display_data"
    }
   ],
   "source": [
    "%matplotlib inline\n",
    "\n",
    "mpl.rc('font', size=13)\n",
    "figure, ax = plt.subplots() \n",
    "figure.set_size_inches(11, 5)\n",
    "\n",
    "# total montly item sales\n",
    "group_month_sum = all_data.groupby('date_block_num').agg({'item_cnt_month': 'sum'})\n",
    "group_month_sum = group_month_sum.reset_index()\n",
    "\n",
    "sns.barplot(x='date_block_num', y='item_cnt_month', data=group_month_sum)\n",
    "ax.set(title='Distribution of monthly item counts by date block number',\n",
    "       xlabel='Date block number', \n",
    "       ylabel='Monthly item counts');"
   ]
  },
  {
   "cell_type": "code",
   "execution_count": 34,
   "metadata": {},
   "outputs": [
    {
     "data": {
      "image/png": "[encoded data removed]",
      "text/plain": [
       "<Figure size 1100x500 with 1 Axes>"
      ]
     },
     "metadata": {},
     "output_type": "display_data"
    }
   ],
   "source": [
    "figure, ax= plt.subplots() \n",
    "figure.set_size_inches(11, 5)\n",
    "\n",
    "# Total item sales by item_category_id\n",
    "group_cat_sum = all_data.groupby('item_category_id').agg({'item_cnt_month': 'sum'})\n",
    "group_cat_sum = group_cat_sum.reset_index()\n",
    "\n",
    "# Extract only item categories with total sales > 10,000\n",
    "group_cat_sum = group_cat_sum[group_cat_sum['item_cnt_month'] > 10000]\n",
    "\n",
    "sns.barplot(x='item_category_id', y='item_cnt_month', data=group_cat_sum)\n",
    "ax.set(title='Distribution of total item counts by item category id',\n",
    "       xlabel='Item category ID', \n",
    "       ylabel='Total item counts')\n",
    "ax.tick_params(axis='x', labelrotation=90) # Rotate X label"
   ]
  },
  {
   "cell_type": "code",
   "execution_count": 35,
   "metadata": {},
   "outputs": [
    {
     "data": {
      "image/png": "[encoded data removed]",
      "text/plain": [
       "<Figure size 1100x500 with 1 Axes>"
      ]
     },
     "metadata": {},
     "output_type": "display_data"
    }
   ],
   "source": [
    "figure, ax= plt.subplots() \n",
    "figure.set_size_inches(11, 5)\n",
    "\n",
    "# Total item sales by shop_id\n",
    "group_shop_sum = all_data.groupby('shop_id').agg({'item_cnt_month': 'sum'})\n",
    "group_shop_sum = group_shop_sum.reset_index()\n",
    "\n",
    "group_shop_sum = group_shop_sum[group_shop_sum['item_cnt_month'] > 10000]\n",
    "\n",
    "sns.barplot(x='shop_id', y='item_cnt_month', data=group_shop_sum)\n",
    "ax.set(title='Distribution of total item counts by shop id',\n",
    "       xlabel='Shop ID', \n",
    "       ylabel='Total item counts')\n",
    "ax.tick_params(axis='x', labelrotation=90)"
   ]
  },
  {
   "cell_type": "code",
   "execution_count": 36,
   "metadata": {},
   "outputs": [],
   "source": [
    "def add_mean_features(df, mean_features, idx_features):\n",
    "    # Check base features\n",
    "    assert (idx_features[0] == 'date_block_num') and \\\n",
    "           len(idx_features) in [2, 3]\n",
    "    \n",
    "    # Set derived feature name \n",
    "    if len(idx_features) == 2:\n",
    "        feature_name = idx_features[1] + '_mean_sales'\n",
    "    else:\n",
    "        feature_name = idx_features[1] + '_' + idx_features[2] + '_mean_sales'\n",
    "    \n",
    "    # Get average monthly sales by grouping based on base features\n",
    "    group = df.groupby(idx_features).agg({'item_cnt_month': 'mean'})\n",
    "    group = group.reset_index()\n",
    "    group = group.rename(columns={'item_cnt_month': feature_name})\n",
    "    \n",
    "    # Merge df with group based on idx_features\n",
    "    df = df.merge(group, on=idx_features, how='left')\n",
    "    # Date downcasting\n",
    "    df = downcast(df, False)\n",
    "    # Append newly created mean_feature_name features to the mean_features list\n",
    "    mean_features.append(feature_name)\n",
    "    \n",
    "    # Garbage collection\n",
    "    del group\n",
    "    gc.collect()\n",
    "    \n",
    "    return df, mean_features"
   ]
  },
  {
   "cell_type": "code",
   "execution_count": 37,
   "metadata": {},
   "outputs": [],
   "source": [
    "# List of derived features containing 'item_id' in the grouping base features\n",
    "item_mean_features = []\n",
    "\n",
    "\n",
    "# Create monthly average sales derived features grouped by ['date_block_num', 'item_id']\n",
    "all_data, item_mean_features = add_mean_features(df=all_data,\n",
    "                                                 mean_features=item_mean_features,\n",
    "                                                 idx_features=['date_block_num', 'item_id'])\n",
    "\n",
    "# Create monthly average sales derived features grouped by ['date_block_num', 'item_id', 'city']\n",
    "all_data, item_mean_features = add_mean_features(df=all_data,\n",
    "                                                 mean_features=item_mean_features,\n",
    "                                                 idx_features=['date_block_num', 'item_id', 'city'])"
   ]
  },
  {
   "cell_type": "code",
   "execution_count": 38,
   "metadata": {},
   "outputs": [
    {
     "data": {
      "text/plain": [
       "['item_id_mean_sales', 'item_id_city_mean_sales']"
      ]
     },
     "execution_count": 38,
     "metadata": {},
     "output_type": "execute_result"
    }
   ],
   "source": [
    "item_mean_features"
   ]
  },
  {
   "cell_type": "code",
   "execution_count": 39,
   "metadata": {},
   "outputs": [],
   "source": [
    "# List of derived features containing 'shop_id' in the grouping base features\n",
    "shop_mean_features = []\n",
    "\n",
    "# Create monthly average sales derived features grouped by ['date_block_num', 'shop_id', 'item_category_id']\n",
    "all_data, shop_mean_features = add_mean_features(df=all_data, \n",
    "                                                 mean_features=shop_mean_features,\n",
    "                                                 idx_features=['date_block_num', 'shop_id', 'item_category_id'])"
   ]
  },
  {
   "cell_type": "code",
   "execution_count": 40,
   "metadata": {},
   "outputs": [
    {
     "data": {
      "text/plain": [
       "['shop_id_item_category_id_mean_sales']"
      ]
     },
     "execution_count": 40,
     "metadata": {},
     "output_type": "execute_result"
    }
   ],
   "source": [
    "shop_mean_features"
   ]
  },
  {
   "cell_type": "code",
   "execution_count": 41,
   "metadata": {},
   "outputs": [],
   "source": [
    "def add_lag_features(df, lag_features_to_clip, idx_features, \n",
    "                     lag_feature, nlags=3, clip=False):\n",
    "    # Copy only the part of the DataFrame needed to create the lag features\n",
    "    df_temp = df[idx_features + [lag_feature]].copy() \n",
    "\n",
    "    # Create lag features\n",
    "    for i in range(1, nlags+1):\n",
    "        # Lag featrue name\n",
    "        lag_feature_name = lag_feature +'_lag' + str(i)\n",
    "        # Set df_temp column name\n",
    "        df_temp.columns = idx_features + [lag_feature_name]\n",
    "        # Add 1 to date_block_num feature in df_temp\n",
    "        df_temp['date_block_num'] += 1\n",
    "        # Merge df with df_temp based on idx_feature\n",
    "        df = df.merge(df_temp.drop_duplicates(), \n",
    "                      on=idx_features, \n",
    "                      how='left')\n",
    "        # Replace NaN with 0\n",
    "        df[lag_feature_name] = df[lag_feature_name].fillna(0)\n",
    "        # Add lag features to lag_features_to_clip to clip between 0 and 20\n",
    "        if clip: \n",
    "            lag_features_to_clip.append(lag_feature_name)\n",
    "    \n",
    "    # Date downcasting\n",
    "    df = downcast(df, False)\n",
    "    # Garbage collection\n",
    "    del df_temp\n",
    "    gc.collect()\n",
    "    \n",
    "    return df, lag_features_to_clip"
   ]
  },
  {
   "cell_type": "code",
   "execution_count": 42,
   "metadata": {},
   "outputs": [],
   "source": [
    "lag_features_to_clip = [] # list of lag features to be clipped to between 0 to 20 \n",
    "idx_features = ['date_block_num', 'shop_id', 'item_id'] # base features\n",
    "\n",
    "# Create 3 month lag features of item_cnt_month based on idx_features\n",
    "all_data, lag_features_to_clip = add_lag_features(df=all_data, \n",
    "                                                  lag_features_to_clip=lag_features_to_clip,\n",
    "                                                  idx_features=idx_features,\n",
    "                                                  lag_feature='item_cnt_month', \n",
    "                                                  nlags=3,\n",
    "                                                  clip=True)"
   ]
  },
  {
   "cell_type": "code",
   "execution_count": 43,
   "metadata": {},
   "outputs": [
    {
     "data": {
      "text/html": [
       "<div>\n",
       "<style scoped>\n",
       "    .dataframe tbody tr th:only-of-type {\n",
       "        vertical-align: middle;\n",
       "    }\n",
       "\n",
       "    .dataframe tbody tr th {\n",
       "        vertical-align: top;\n",
       "    }\n",
       "\n",
       "    .dataframe thead th {\n",
       "        text-align: right;\n",
       "    }\n",
       "</style>\n",
       "<table border=\"1\" class=\"dataframe\">\n",
       "  <thead>\n",
       "    <tr style=\"text-align: right;\">\n",
       "      <th></th>\n",
       "      <th>0</th>\n",
       "      <th>1</th>\n",
       "      <th>2</th>\n",
       "      <th>3</th>\n",
       "      <th>4</th>\n",
       "    </tr>\n",
       "  </thead>\n",
       "  <tbody>\n",
       "    <tr>\n",
       "      <th>date_block_num</th>\n",
       "      <td>0.000000</td>\n",
       "      <td>0.000000</td>\n",
       "      <td>0.000000</td>\n",
       "      <td>0.000000</td>\n",
       "      <td>0.000000</td>\n",
       "    </tr>\n",
       "    <tr>\n",
       "      <th>shop_id</th>\n",
       "      <td>59.000000</td>\n",
       "      <td>59.000000</td>\n",
       "      <td>59.000000</td>\n",
       "      <td>59.000000</td>\n",
       "      <td>59.000000</td>\n",
       "    </tr>\n",
       "    <tr>\n",
       "      <th>item_id</th>\n",
       "      <td>22154.000000</td>\n",
       "      <td>2552.000000</td>\n",
       "      <td>2554.000000</td>\n",
       "      <td>2555.000000</td>\n",
       "      <td>2564.000000</td>\n",
       "    </tr>\n",
       "    <tr>\n",
       "      <th>item_cnt_month</th>\n",
       "      <td>1.000000</td>\n",
       "      <td>0.000000</td>\n",
       "      <td>0.000000</td>\n",
       "      <td>0.000000</td>\n",
       "      <td>0.000000</td>\n",
       "    </tr>\n",
       "    <tr>\n",
       "      <th>item_price_mean</th>\n",
       "      <td>999.000000</td>\n",
       "      <td>0.000000</td>\n",
       "      <td>0.000000</td>\n",
       "      <td>0.000000</td>\n",
       "      <td>0.000000</td>\n",
       "    </tr>\n",
       "    <tr>\n",
       "      <th>item_count</th>\n",
       "      <td>1.000000</td>\n",
       "      <td>0.000000</td>\n",
       "      <td>0.000000</td>\n",
       "      <td>0.000000</td>\n",
       "      <td>0.000000</td>\n",
       "    </tr>\n",
       "    <tr>\n",
       "      <th>city</th>\n",
       "      <td>30.000000</td>\n",
       "      <td>30.000000</td>\n",
       "      <td>30.000000</td>\n",
       "      <td>30.000000</td>\n",
       "      <td>30.000000</td>\n",
       "    </tr>\n",
       "    <tr>\n",
       "      <th>item_category_id</th>\n",
       "      <td>37.000000</td>\n",
       "      <td>58.000000</td>\n",
       "      <td>58.000000</td>\n",
       "      <td>56.000000</td>\n",
       "      <td>59.000000</td>\n",
       "    </tr>\n",
       "    <tr>\n",
       "      <th>first_sale_date</th>\n",
       "      <td>0.000000</td>\n",
       "      <td>0.000000</td>\n",
       "      <td>0.000000</td>\n",
       "      <td>0.000000</td>\n",
       "      <td>0.000000</td>\n",
       "    </tr>\n",
       "    <tr>\n",
       "      <th>category</th>\n",
       "      <td>5.000000</td>\n",
       "      <td>7.000000</td>\n",
       "      <td>7.000000</td>\n",
       "      <td>7.000000</td>\n",
       "      <td>7.000000</td>\n",
       "    </tr>\n",
       "    <tr>\n",
       "      <th>item_id_mean_sales</th>\n",
       "      <td>0.457143</td>\n",
       "      <td>0.028571</td>\n",
       "      <td>0.028571</td>\n",
       "      <td>0.028571</td>\n",
       "      <td>0.142857</td>\n",
       "    </tr>\n",
       "    <tr>\n",
       "      <th>item_id_city_mean_sales</th>\n",
       "      <td>1.000000</td>\n",
       "      <td>0.000000</td>\n",
       "      <td>0.000000</td>\n",
       "      <td>0.000000</td>\n",
       "      <td>0.000000</td>\n",
       "    </tr>\n",
       "    <tr>\n",
       "      <th>shop_id_item_category_id_mean_sales</th>\n",
       "      <td>0.096774</td>\n",
       "      <td>0.000000</td>\n",
       "      <td>0.000000</td>\n",
       "      <td>0.011494</td>\n",
       "      <td>0.013245</td>\n",
       "    </tr>\n",
       "    <tr>\n",
       "      <th>item_cnt_month_lag1</th>\n",
       "      <td>0.000000</td>\n",
       "      <td>0.000000</td>\n",
       "      <td>0.000000</td>\n",
       "      <td>0.000000</td>\n",
       "      <td>0.000000</td>\n",
       "    </tr>\n",
       "    <tr>\n",
       "      <th>item_cnt_month_lag2</th>\n",
       "      <td>0.000000</td>\n",
       "      <td>0.000000</td>\n",
       "      <td>0.000000</td>\n",
       "      <td>0.000000</td>\n",
       "      <td>0.000000</td>\n",
       "    </tr>\n",
       "    <tr>\n",
       "      <th>item_cnt_month_lag3</th>\n",
       "      <td>0.000000</td>\n",
       "      <td>0.000000</td>\n",
       "      <td>0.000000</td>\n",
       "      <td>0.000000</td>\n",
       "      <td>0.000000</td>\n",
       "    </tr>\n",
       "  </tbody>\n",
       "</table>\n",
       "</div>"
      ],
      "text/plain": [
       "                                                0            1            2  \\\n",
       "date_block_num                           0.000000     0.000000     0.000000   \n",
       "shop_id                                 59.000000    59.000000    59.000000   \n",
       "item_id                              22154.000000  2552.000000  2554.000000   \n",
       "item_cnt_month                           1.000000     0.000000     0.000000   \n",
       "item_price_mean                        999.000000     0.000000     0.000000   \n",
       "item_count                               1.000000     0.000000     0.000000   \n",
       "city                                    30.000000    30.000000    30.000000   \n",
       "item_category_id                        37.000000    58.000000    58.000000   \n",
       "first_sale_date                          0.000000     0.000000     0.000000   \n",
       "category                                 5.000000     7.000000     7.000000   \n",
       "item_id_mean_sales                       0.457143     0.028571     0.028571   \n",
       "item_id_city_mean_sales                  1.000000     0.000000     0.000000   \n",
       "shop_id_item_category_id_mean_sales      0.096774     0.000000     0.000000   \n",
       "item_cnt_month_lag1                      0.000000     0.000000     0.000000   \n",
       "item_cnt_month_lag2                      0.000000     0.000000     0.000000   \n",
       "item_cnt_month_lag3                      0.000000     0.000000     0.000000   \n",
       "\n",
       "                                               3            4  \n",
       "date_block_num                          0.000000     0.000000  \n",
       "shop_id                                59.000000    59.000000  \n",
       "item_id                              2555.000000  2564.000000  \n",
       "item_cnt_month                          0.000000     0.000000  \n",
       "item_price_mean                         0.000000     0.000000  \n",
       "item_count                              0.000000     0.000000  \n",
       "city                                   30.000000    30.000000  \n",
       "item_category_id                       56.000000    59.000000  \n",
       "first_sale_date                         0.000000     0.000000  \n",
       "category                                7.000000     7.000000  \n",
       "item_id_mean_sales                      0.028571     0.142857  \n",
       "item_id_city_mean_sales                 0.000000     0.000000  \n",
       "shop_id_item_category_id_mean_sales     0.011494     0.013245  \n",
       "item_cnt_month_lag1                     0.000000     0.000000  \n",
       "item_cnt_month_lag2                     0.000000     0.000000  \n",
       "item_cnt_month_lag3                     0.000000     0.000000  "
      ]
     },
     "execution_count": 43,
     "metadata": {},
     "output_type": "execute_result"
    }
   ],
   "source": [
    "all_data.head().T"
   ]
  },
  {
   "cell_type": "code",
   "execution_count": 44,
   "metadata": {},
   "outputs": [
    {
     "data": {
      "text/plain": [
       "['item_cnt_month_lag1', 'item_cnt_month_lag2', 'item_cnt_month_lag3']"
      ]
     },
     "execution_count": 44,
     "metadata": {},
     "output_type": "execute_result"
    }
   ],
   "source": [
    "lag_features_to_clip"
   ]
  },
  {
   "cell_type": "code",
   "execution_count": 45,
   "metadata": {},
   "outputs": [],
   "source": [
    "# Create 3 month lag features of item_count feature based on idx_features\n",
    "all_data, lag_features_to_clip = add_lag_features(df=all_data, \n",
    "                                                  lag_features_to_clip=lag_features_to_clip,\n",
    "                                                  idx_features=idx_features,\n",
    "                                                  lag_feature='item_count', \n",
    "                                                  nlags=3)\n",
    "\n",
    "# Create 3 month lag features of item_price_mean feature based on idx_features\n",
    "all_data, lag_features_to_clip = add_lag_features(df=all_data, \n",
    "                                                  lag_features_to_clip=lag_features_to_clip,\n",
    "                                                  idx_features=idx_features,\n",
    "                                                  lag_feature='item_price_mean', \n",
    "                                                  nlags=3)"
   ]
  },
  {
   "cell_type": "code",
   "execution_count": 46,
   "metadata": {},
   "outputs": [
    {
     "data": {
      "text/plain": [
       "item_id_mean_sales         0.0\n",
       "item_id_city_mean_sales    0.0\n",
       "dtype: float32"
      ]
     },
     "execution_count": 46,
     "metadata": {},
     "output_type": "execute_result"
    }
   ],
   "source": [
    "X_test_temp = all_data[all_data['date_block_num'] == 34]\n",
    "X_test_temp[item_mean_features].sum()"
   ]
  },
  {
   "cell_type": "code",
   "execution_count": 47,
   "metadata": {},
   "outputs": [],
   "source": [
    "# Create lag features by item_mean_features element based on dx_features\n",
    "for item_mean_feature in item_mean_features:\n",
    "    all_data, lag_features_to_clip = add_lag_features(df=all_data, \n",
    "                                                      lag_features_to_clip=lag_features_to_clip, \n",
    "                                                      idx_features=idx_features, \n",
    "                                                      lag_feature=item_mean_feature, \n",
    "                                                      nlags=3)\n",
    "# Remove features in item_mean_features\n",
    "all_data = all_data.drop(item_mean_features, axis=1)"
   ]
  },
  {
   "cell_type": "code",
   "execution_count": 48,
   "metadata": {},
   "outputs": [
    {
     "data": {
      "text/plain": [
       "['shop_id_item_category_id_mean_sales']"
      ]
     },
     "execution_count": 48,
     "metadata": {},
     "output_type": "execute_result"
    }
   ],
   "source": [
    "shop_mean_features"
   ]
  },
  {
   "cell_type": "code",
   "execution_count": 49,
   "metadata": {},
   "outputs": [],
   "source": [
    "# Create lag features by shop_mean_features element based on ['date_block_num', 'shop_id', 'item_category_id']\n",
    "for shop_mean_feature in shop_mean_features:\n",
    "    all_data, lag_features_to_clip = add_lag_features(df=all_data,\n",
    "                                                      lag_features_to_clip=lag_features_to_clip, \n",
    "                                                      idx_features=['date_block_num', 'shop_id', 'item_category_id'], \n",
    "                                                      lag_feature=shop_mean_feature, \n",
    "                                                      nlags=3)\n",
    "# Remove features in shop_mean_features\n",
    "all_data = all_data.drop(shop_mean_features, axis=1)"
   ]
  },
  {
   "cell_type": "code",
   "execution_count": 50,
   "metadata": {},
   "outputs": [],
   "source": [
    "# Remove data less than date ID 3\n",
    "all_data = all_data.drop(all_data[all_data['date_block_num'] < 3].index)"
   ]
  },
  {
   "cell_type": "code",
   "execution_count": 51,
   "metadata": {},
   "outputs": [],
   "source": [
    "all_data['item_cnt_month_lag_mean'] = all_data[['item_cnt_month_lag1',\n",
    "                                                'item_cnt_month_lag2', \n",
    "                                                'item_cnt_month_lag3']].mean(axis=1)"
   ]
  },
  {
   "cell_type": "code",
   "execution_count": 52,
   "metadata": {},
   "outputs": [],
   "source": [
    "# Clip 0~20\n",
    "all_data[lag_features_to_clip + ['item_cnt_month', 'item_cnt_month_lag_mean']] = \\\n",
    "    all_data[lag_features_to_clip + ['item_cnt_month', 'item_cnt_month_lag_mean']].clip(0, 20)"
   ]
  },
  {
   "cell_type": "code",
   "execution_count": 53,
   "metadata": {},
   "outputs": [],
   "source": [
    "all_data['lag_grad1'] = all_data['item_cnt_month_lag1']/all_data['item_cnt_month_lag2']\n",
    "all_data['lag_grad1'] = all_data['lag_grad1'].replace([np.inf, -np.inf], \n",
    "                                                        np.nan).fillna(0)\n",
    "\n",
    "all_data['lag_grad2'] = all_data['item_cnt_month_lag2']/all_data['item_cnt_month_lag3']\n",
    "all_data['lag_grad2'] = all_data['lag_grad2'].replace([np.inf, -np.inf], \n",
    "                                                        np.nan).fillna(0)"
   ]
  },
  {
   "cell_type": "code",
   "execution_count": 54,
   "metadata": {},
   "outputs": [],
   "source": [
    "all_data['brand_new'] = all_data['first_sale_date'] == all_data['date_block_num']"
   ]
  },
  {
   "cell_type": "code",
   "execution_count": 55,
   "metadata": {},
   "outputs": [],
   "source": [
    "all_data['duration_after_first_sale'] = all_data['date_block_num'] - all_data['first_sale_date']\n",
    "all_data = all_data.drop('first_sale_date', axis=1)"
   ]
  },
  {
   "cell_type": "code",
   "execution_count": 56,
   "metadata": {},
   "outputs": [],
   "source": [
    "all_data['month'] = all_data['date_block_num'] % 12"
   ]
  },
  {
   "cell_type": "code",
   "execution_count": 57,
   "metadata": {},
   "outputs": [
    {
     "name": "stdout",
     "output_type": "stream",
     "text": [
      "<class 'pandas.core.frame.DataFrame'>\n",
      "RangeIndex: 8029765 entries, 827196 to 8856960\n",
      "Data columns (total 31 columns):\n",
      " #   Column                                    Dtype  \n",
      "---  ------                                    -----  \n",
      " 0   date_block_num                            int8   \n",
      " 1   shop_id                                   int8   \n",
      " 2   item_id                                   int16  \n",
      " 3   item_cnt_month                            int8   \n",
      " 4   city                                      int8   \n",
      " 5   item_category_id                          int8   \n",
      " 6   category                                  int8   \n",
      " 7   item_cnt_month_lag1                       int8   \n",
      " 8   item_cnt_month_lag2                       int8   \n",
      " 9   item_cnt_month_lag3                       int8   \n",
      " 10  item_count_lag1                           int8   \n",
      " 11  item_count_lag2                           int8   \n",
      " 12  item_count_lag3                           int8   \n",
      " 13  item_price_mean_lag1                      float64\n",
      " 14  item_price_mean_lag2                      float64\n",
      " 15  item_price_mean_lag3                      float64\n",
      " 16  item_id_mean_sales_lag1                   float32\n",
      " 17  item_id_mean_sales_lag2                   float32\n",
      " 18  item_id_mean_sales_lag3                   float32\n",
      " 19  item_id_city_mean_sales_lag1              float32\n",
      " 20  item_id_city_mean_sales_lag2              float32\n",
      " 21  item_id_city_mean_sales_lag3              float32\n",
      " 22  shop_id_item_category_id_mean_sales_lag1  float32\n",
      " 23  shop_id_item_category_id_mean_sales_lag2  float32\n",
      " 24  shop_id_item_category_id_mean_sales_lag3  float32\n",
      " 25  item_cnt_month_lag_mean                   float32\n",
      " 26  lag_grad1                                 float32\n",
      " 27  lag_grad2                                 float32\n",
      " 28  brand_new                                 int8   \n",
      " 29  duration_after_first_sale                 int8   \n",
      " 30  month                                     int8   \n",
      "dtypes: float32(12), float64(3), int16(1), int8(15)\n",
      "memory usage: 681.5 MB\n"
     ]
    }
   ],
   "source": [
    "# Remove item_price_mean, item_count features\n",
    "all_data = all_data.drop(['item_price_mean', 'item_count'], axis=1)\n",
    "all_data = downcast(all_data, False) # Data downcasting\n",
    "all_data.info()"
   ]
  },
  {
   "cell_type": "code",
   "execution_count": 58,
   "metadata": {},
   "outputs": [
    {
     "data": {
      "text/plain": [
       "0"
      ]
     },
     "execution_count": 58,
     "metadata": {},
     "output_type": "execute_result"
    }
   ],
   "source": [
    "# Train data (Features)\n",
    "X_train = all_data[all_data['date_block_num'] < 33]\n",
    "X_train = X_train.drop(['item_cnt_month'], axis=1)\n",
    "# Valid data (Features)\n",
    "X_valid = all_data[all_data['date_block_num'] == 33]\n",
    "X_valid = X_valid.drop(['item_cnt_month'], axis=1)\n",
    "# Test data (Features)\n",
    "X_test = all_data[all_data['date_block_num'] == 34]\n",
    "X_test = X_test.drop(['item_cnt_month'], axis=1)\n",
    "\n",
    "# Train data (Target values)\n",
    "y_train = all_data[all_data['date_block_num'] < 33]['item_cnt_month']\n",
    "# Valid data (Target values)\n",
    "y_valid = all_data[all_data['date_block_num'] == 33]['item_cnt_month']\n",
    "\n",
    "# Garbage collection\n",
    "del all_data\n",
    "gc.collect()"
   ]
  },
  {
   "cell_type": "code",
   "execution_count": 60,
   "metadata": {},
   "outputs": [
    {
     "name": "stderr",
     "output_type": "stream",
     "text": [
      "c:\\Users\\gabri\\Documents\\UFTM\\Introdução à Ciência de Dados\\env\\Lib\\site-packages\\lightgbm\\engine.py:181: UserWarning: 'early_stopping_rounds' argument is deprecated and will be removed in a future release of LightGBM. Pass 'early_stopping()' callback via 'callbacks' argument instead.\n",
      "  _log_warning(\"'early_stopping_rounds' argument is deprecated and will be removed in a future release of LightGBM. \"\n",
      "c:\\Users\\gabri\\Documents\\UFTM\\Introdução à Ciência de Dados\\env\\Lib\\site-packages\\lightgbm\\basic.py:2068: UserWarning: categorical_feature in Dataset is overridden.\n",
      "New categorical_feature is ['category', 'city', 'item_category_id', 'month', 'shop_id']\n",
      "  _log_warning('categorical_feature in Dataset is overridden.\\n'\n",
      "c:\\Users\\gabri\\Documents\\UFTM\\Introdução à Ciência de Dados\\env\\Lib\\site-packages\\lightgbm\\engine.py:239: UserWarning: 'verbose_eval' argument is deprecated and will be removed in a future release of LightGBM. Pass 'log_evaluation()' callback via 'callbacks' argument instead.\n",
      "  _log_warning(\"'verbose_eval' argument is deprecated and will be removed in a future release of LightGBM. \"\n"
     ]
    },
    {
     "name": "stdout",
     "output_type": "stream",
     "text": [
      "[LightGBM] [Info] Total Bins 3971\n",
      "[LightGBM] [Info] Number of data points in the train set: 7593847, number of used features: 30\n"
     ]
    },
    {
     "name": "stderr",
     "output_type": "stream",
     "text": [
      "c:\\Users\\gabri\\Documents\\UFTM\\Introdução à Ciência de Dados\\env\\Lib\\site-packages\\lightgbm\\basic.py:1780: UserWarning: Overriding the parameters from Reference Dataset.\n",
      "  _log_warning('Overriding the parameters from Reference Dataset.')\n",
      "c:\\Users\\gabri\\Documents\\UFTM\\Introdução à Ciência de Dados\\env\\Lib\\site-packages\\lightgbm\\basic.py:1513: UserWarning: categorical_column in param dict is overridden.\n",
      "  _log_warning(f'{cat_alias} in param dict is overridden.')\n"
     ]
    },
    {
     "name": "stdout",
     "output_type": "stream",
     "text": [
      "[LightGBM] [Info] Start training from score 0.307756\n",
      "Training until validation scores don't improve for 200 rounds\n",
      "[100]\ttraining's rmse: 1.0177\tvalid_1's rmse: 0.913731\n",
      "[200]\ttraining's rmse: 0.91246\tvalid_1's rmse: 0.841797\n",
      "[300]\ttraining's rmse: 0.859385\tvalid_1's rmse: 0.811874\n",
      "[400]\ttraining's rmse: 0.830306\tvalid_1's rmse: 0.800209\n",
      "[500]\ttraining's rmse: 0.810806\tvalid_1's rmse: 0.79606\n",
      "[600]\ttraining's rmse: 0.797302\tvalid_1's rmse: 0.795066\n",
      "[700]\ttraining's rmse: 0.786993\tvalid_1's rmse: 0.794736\n",
      "[800]\ttraining's rmse: 0.778605\tvalid_1's rmse: 0.794662\n",
      "[900]\ttraining's rmse: 0.771494\tvalid_1's rmse: 0.794832\n",
      "[1000]\ttraining's rmse: 0.765567\tvalid_1's rmse: 0.795021\n",
      "Early stopping, best iteration is:\n",
      "[809]\ttraining's rmse: 0.777911\tvalid_1's rmse: 0.794547\n"
     ]
    }
   ],
   "source": [
    "# lgb hyper-parameters\n",
    "params = {'metric': 'rmse',\n",
    "          'num_leaves': 256,\n",
    "          'learning_rate': 0.005,\n",
    "          'feature_fraction': 0.75,\n",
    "          'bagging_fraction': 0.75,\n",
    "          'bagging_freq': 5,\n",
    "          'force_col_wise' : True,\n",
    "          'random_state': 10}\n",
    "\n",
    "cat_features = ['shop_id', 'city', 'item_category_id', 'category', 'month']\n",
    "\n",
    "# lgb train and valid dataset\n",
    "dtrain = lgb.Dataset(X_train, y_train)\n",
    "dvalid = lgb.Dataset(X_valid, y_valid)\n",
    " \n",
    "# Train LightGBM model\n",
    "lgb_model = lgb.train(params=params,\n",
    "                      train_set=dtrain,\n",
    "                      num_boost_round=2400,\n",
    "                      valid_sets=(dtrain, dvalid),\n",
    "                      early_stopping_rounds=200,\n",
    "                      categorical_feature=cat_features,\n",
    "                      verbose_eval=100)"
   ]
  },
  {
   "cell_type": "code",
   "execution_count": 61,
   "metadata": {},
   "outputs": [],
   "source": [
    "preds = lgb_model.predict(X_test).clip(0,20)\n",
    "\n",
    "submission['item_cnt_month'] = preds\n",
    "submission.to_csv('LightGBM_base_submission.csv', index=False)"
   ]
  },
  {
   "cell_type": "code",
   "execution_count": 62,
   "metadata": {},
   "outputs": [
    {
     "data": {
      "text/plain": [
       "302"
      ]
     },
     "execution_count": 62,
     "metadata": {},
     "output_type": "execute_result"
    }
   ],
   "source": [
    "del X_train, y_train, X_valid, y_valid, X_test, lgb_model, dtrain, dvalid\n",
    "gc.collect()"
   ]
  }
 ],
 "metadata": {
  "kernelspec": {
   "display_name": "env",
   "language": "python",
   "name": "python3"
  },
  "language_info": {
   "codemirror_mode": {
    "name": "ipython",
    "version": 3
   },
   "file_extension": ".py",
   "mimetype": "text/x-python",
   "name": "python",
   "nbconvert_exporter": "python",
   "pygments_lexer": "ipython3",
   "version": "3.11.4"
  },
  "orig_nbformat": 4
 },
 "nbformat": 4,
 "nbformat_minor": 2
}
